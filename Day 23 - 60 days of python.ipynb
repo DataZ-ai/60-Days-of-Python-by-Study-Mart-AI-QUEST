{
 "cells": [
  {
   "cell_type": "code",
   "execution_count": 3,
   "id": "ab502616",
   "metadata": {},
   "outputs": [],
   "source": [
    "import zipfile as zp\n",
    "\n",
    "zipp = zp.ZipFile('Zipped.zip','w') # w stands for write\n",
    "\n",
    "zipp.write('assignment1.png')\n",
    "zipp.write('dsa.jpg')\n",
    "zipp.write('LOR Visa.docx')"
   ]
  },
  {
   "cell_type": "markdown",
   "id": "83e76d45",
   "metadata": {},
   "source": [
    "# unzip"
   ]
  },
  {
   "cell_type": "code",
   "execution_count": 6,
   "id": "c67a5d16",
   "metadata": {},
   "outputs": [],
   "source": [
    "with zp.ZipFile('Zipped.zip','r') as file: # r stands for read\n",
    "    file.extractall('TEMP Unzip')\n"
   ]
  },
  {
   "cell_type": "code",
   "execution_count": null,
   "id": "a240132c",
   "metadata": {},
   "outputs": [],
   "source": []
  }
 ],
 "metadata": {
  "kernelspec": {
   "display_name": "Python 3",
   "language": "python",
   "name": "python3"
  },
  "language_info": {
   "codemirror_mode": {
    "name": "ipython",
    "version": 3
   },
   "file_extension": ".py",
   "mimetype": "text/x-python",
   "name": "python",
   "nbconvert_exporter": "python",
   "pygments_lexer": "ipython3",
   "version": "3.8.8"
  }
 },
 "nbformat": 4,
 "nbformat_minor": 5
}
