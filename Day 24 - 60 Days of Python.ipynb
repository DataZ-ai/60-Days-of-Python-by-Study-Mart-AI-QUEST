{
 "cells": [
  {
   "cell_type": "code",
   "execution_count": 1,
   "id": "e6470d52",
   "metadata": {},
   "outputs": [],
   "source": [
    "main = 'You have got to be selected by a Barcelona scout'\n",
    "\n",
    "search_word = 'Barcelona'\n",
    "replace_word = \"Bayern Munich\"\n",
    "\n",
    "with open(r'text1.txt', 'r') as file:\n",
    "    data = file.read()\n",
    "    data = data.replace(search_word, replace_word)\n"
   ]
  },
  {
   "cell_type": "code",
   "execution_count": 2,
   "id": "6162638d",
   "metadata": {},
   "outputs": [],
   "source": [
    "with open(r'text1.txt', 'w') as file:\n",
    "    file.write(data)"
   ]
  },
  {
   "cell_type": "code",
   "execution_count": 3,
   "id": "37e4e5d5",
   "metadata": {},
   "outputs": [],
   "source": [
    "import re"
   ]
  },
  {
   "cell_type": "code",
   "execution_count": 4,
   "id": "fb498b60",
   "metadata": {},
   "outputs": [
    {
     "data": {
      "text/plain": [
       "'You have got to be selected by a Bayern Munich scout'"
      ]
     },
     "execution_count": 4,
     "metadata": {},
     "output_type": "execute_result"
    }
   ],
   "source": [
    "re.sub(search_word , replace_word, main )"
   ]
  },
  {
   "cell_type": "code",
   "execution_count": null,
   "id": "b8c3b943",
   "metadata": {},
   "outputs": [],
   "source": []
  }
 ],
 "metadata": {
  "kernelspec": {
   "display_name": "Python 3",
   "language": "python",
   "name": "python3"
  },
  "language_info": {
   "codemirror_mode": {
    "name": "ipython",
    "version": 3
   },
   "file_extension": ".py",
   "mimetype": "text/x-python",
   "name": "python",
   "nbconvert_exporter": "python",
   "pygments_lexer": "ipython3",
   "version": "3.8.8"
  }
 },
 "nbformat": 4,
 "nbformat_minor": 5
}
